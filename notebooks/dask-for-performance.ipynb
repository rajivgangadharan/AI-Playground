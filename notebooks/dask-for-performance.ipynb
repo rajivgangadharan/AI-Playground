{
 "cells": [
  {
   "cell_type": "code",
   "execution_count": 3,
   "id": "2143259b-fc32-41ef-bbad-bd246fa97a43",
   "metadata": {},
   "outputs": [],
   "source": [
    "import pandas as pd\n",
    "import dask.dataframe as dd\n",
    "import time\n",
    "import numpy as np\n",
    "\n",
    "# --- Data Generation ---\n",
    "n_rows = 10_000_000\n",
    "n_cols = 5\n",
    "data = {\n",
    "    f'col_{i}': np.random.rand(n_rows) for i in range(n_cols)\n",
    "}\n",
    "data['category'] = np.random.choice(['A', 'B', 'C', 'D'], n_rows)\n",
    "\n"
   ]
  },
  {
   "cell_type": "code",
   "execution_count": 6,
   "id": "1342e4d6-75e2-404a-9975-bffc2cfb79db",
   "metadata": {},
   "outputs": [],
   "source": [
    "# --- Pandas DataFrame ---\n",
    "start_pandas = time.time()\n",
    "pandas_df = pd.DataFrame(data)\n",
    "end_pandas = time.time()\n",
    "pandas_creation_time = end_pandas - start_pandas"
   ]
  },
  {
   "cell_type": "code",
   "execution_count": 7,
   "id": "762cd047-62e5-41a2-8875-b7a7b6112ffc",
   "metadata": {},
   "outputs": [
    {
     "name": "stdout",
     "output_type": "stream",
     "text": [
      "Pandas DataFrame Creation Time: 0.3519 seconds\n",
      "Dask DataFrame Creation Time: 0.5300 seconds\n"
     ]
    }
   ],
   "source": [
    "# --- Dask DataFrame ---\n",
    "start_dask = time.time()\n",
    "dask_df = dd.from_pandas(pandas_df, npartitions=4)  # Create Dask DataFrame with 4 partitions\n",
    "end_dask = time.time()\n",
    "dask_creation_time = end_dask - start_dask\n",
    "\n",
    "print(f\"Pandas DataFrame Creation Time: {pandas_creation_time:.4f} seconds\")\n",
    "print(f\"Dask DataFrame Creation Time: {dask_creation_time:.4f} seconds\")"
   ]
  },
  {
   "cell_type": "code",
   "execution_count": 9,
   "id": "d6c8cd17-0bec-4a59-8cb0-05590545c170",
   "metadata": {},
   "outputs": [],
   "source": [
    "# --- Pandas Aggregation ---\n",
    "start_pandas_agg = time.time()\n",
    "pandas_grouped = pandas_df.groupby('category')['col_0'].mean()\n",
    "# pandas_result = pandas_grouped.compute() # compute the result for pandas.\n",
    "# Pandas dont need compute\n",
    "pandas_result = pandas_grouped\n",
    "end_pandas_agg = time.time()\n",
    "pandas_agg_time = end_pandas_agg - start_pandas_agg"
   ]
  },
  {
   "cell_type": "code",
   "execution_count": 10,
   "id": "a1473344-7956-47f2-8743-e8337c8a1ab1",
   "metadata": {},
   "outputs": [
    {
     "name": "stdout",
     "output_type": "stream",
     "text": [
      "Pandas Aggregation Time: 0.6099 seconds\n",
      "Dask Aggregation Time: 0.7329 seconds\n",
      "Pandas Filtering Time: 0.1611 seconds\n",
      "Dask Filtering Time: 0.6978 seconds\n",
      "Pandas Apply Time: 2.3105 seconds\n",
      "Dask Apply Time: 2.8247 seconds\n",
      "Pandas Sum Time: 0.0119 seconds\n",
      "Dask Sum Time: 0.5834 seconds\n"
     ]
    }
   ],
   "source": [
    "# --- Dask Aggregation ---\n",
    "start_dask_agg = time.time()\n",
    "dask_grouped = dask_df.groupby('category')['col_0'].mean()\n",
    "dask_result = dask_grouped.compute()\n",
    "end_dask_agg = time.time()\n",
    "dask_agg_time = end_dask_agg - start_dask_agg\n",
    "\n",
    "print(f\"Pandas Aggregation Time: {pandas_agg_time:.4f} seconds\")\n",
    "print(f\"Dask Aggregation Time: {dask_agg_time:.4f} seconds\")\n",
    "\n"
   ]
  },
  {
   "cell_type": "code",
   "execution_count": 13,
   "id": "4736d3a5-6b64-4678-a960-ff2a76f4dec7",
   "metadata": {},
   "outputs": [
    {
     "name": "stdout",
     "output_type": "stream",
     "text": [
      "Pandas Filtering Time: 0.2072 seconds\n",
      "Dask Filtering Time: 0.6872 seconds\n"
     ]
    }
   ],
   "source": [
    "# --- Pandas Filtering ---\n",
    "start_pandas_filter = time.time()\n",
    "pandas_filtered = pandas_df[pandas_df['col_1'] > 0.5]\n",
    "pandas_filtered_count = len(pandas_filtered)\n",
    "end_pandas_filter = time.time()\n",
    "pandas_filter_time = end_pandas_filter - start_pandas_filter\n",
    "\n",
    "# --- Dask Filtering ---\n",
    "start_dask_filter = time.time()\n",
    "dask_filtered = dask_df[dask_df['col_1'] > 0.5]\n",
    "dask_filtered_count = dask_filtered.count().compute()\n",
    "end_dask_filter = time.time()\n",
    "dask_filter_time = end_dask_filter - start_dask_filter\n",
    "\n",
    "print(f\"Pandas Filtering Time: {pandas_filter_time:.4f} seconds\")\n",
    "print(f\"Dask Filtering Time: {dask_filter_time:.4f} seconds\")\n",
    "\n"
   ]
  },
  {
   "cell_type": "code",
   "execution_count": 12,
   "id": "8d86206f-9ef7-49e9-aa6c-53c4049efbe3",
   "metadata": {},
   "outputs": [
    {
     "name": "stdout",
     "output_type": "stream",
     "text": [
      "Pandas Apply Time: 2.3684 seconds\n",
      "Dask Apply Time: 2.9519 seconds\n"
     ]
    }
   ],
   "source": [
    "# --- Pandas Apply Function ---\n",
    "def custom_function(x):\n",
    "    return x * 2\n",
    "\n",
    "start_pandas_apply = time.time()\n",
    "pandas_applied = pandas_df['col_2'].apply(custom_function)\n",
    "end_pandas_apply = time.time()\n",
    "pandas_apply_time = end_pandas_apply - start_pandas_apply\n",
    "\n",
    "# --- Dask Apply Function ---\n",
    "start_dask_apply = time.time()\n",
    "dask_applied = dask_df['col_2'].apply(custom_function, meta=('col_2', 'float64')).compute()\n",
    "end_dask_apply = time.time()\n",
    "dask_apply_time = end_dask_apply - start_dask_apply\n",
    "\n",
    "print(f\"Pandas Apply Time: {pandas_apply_time:.4f} seconds\")\n",
    "print(f\"Dask Apply Time: {dask_apply_time:.4f} seconds\")\n",
    "\n"
   ]
  },
  {
   "cell_type": "code",
   "execution_count": 11,
   "id": "7c9ff447-60d4-4e8c-8bd6-c2e7193af2c5",
   "metadata": {},
   "outputs": [
    {
     "name": "stdout",
     "output_type": "stream",
     "text": [
      "Pandas Sum Time: 0.0246 seconds\n",
      "Dask Sum Time: 0.5830 seconds\n"
     ]
    }
   ],
   "source": [
    "# --- Pandas Sum ---\n",
    "start_pandas_sum = time.time()\n",
    "pandas_sum = pandas_df['col_3'].sum()\n",
    "end_pandas_sum = time.time()\n",
    "pandas_sum_time = end_pandas_sum - start_pandas_sum\n",
    "\n",
    "# --- Dask Sum ---\n",
    "start_dask_sum = time.time()\n",
    "dask_sum = dask_df['col_3'].sum().compute()\n",
    "end_dask_sum = time.time()\n",
    "dask_sum_time = end_dask_sum - start_dask_sum\n",
    "\n",
    "print(f\"Pandas Sum Time: {pandas_sum_time:.4f} seconds\")\n",
    "print(f\"Dask Sum Time: {dask_sum_time:.4f} seconds\")"
   ]
  },
  {
   "cell_type": "code",
   "execution_count": null,
   "id": "0e456960-878b-4f5d-8baa-5d7530ac0bf2",
   "metadata": {},
   "outputs": [],
   "source": []
  }
 ],
 "metadata": {
  "kernelspec": {
   "display_name": "Python 3 (ipykernel)",
   "language": "python",
   "name": "python3"
  },
  "language_info": {
   "codemirror_mode": {
    "name": "ipython",
    "version": 3
   },
   "file_extension": ".py",
   "mimetype": "text/x-python",
   "name": "python",
   "nbconvert_exporter": "python",
   "pygments_lexer": "ipython3",
   "version": "3.12.3"
  },
  "widgets": {
   "application/vnd.jupyter.widget-state+json": {
    "state": {},
    "version_major": 2,
    "version_minor": 0
   }
  }
 },
 "nbformat": 4,
 "nbformat_minor": 5
}
